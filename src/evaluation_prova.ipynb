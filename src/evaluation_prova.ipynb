{
 "cells": [
  {
   "cell_type": "code",
   "execution_count": null,
   "metadata": {},
   "outputs": [],
   "source": [
    "import numpy as np\n",
    "import s328919"
   ]
  },
  {
   "cell_type": "markdown",
   "metadata": {},
   "source": [
    "## Evaluation"
   ]
  },
  {
   "cell_type": "code",
   "execution_count": 8,
   "metadata": {},
   "outputs": [
    {
     "name": "stdout",
     "output_type": "stream",
     "text": [
      "(1, 500) (500,)\n",
      "MSE (train): 7.12594e-32\n"
     ]
    }
   ],
   "source": [
    "problem = np.load('data/problem_1.npz')\n",
    "x = problem['x']\n",
    "y = problem['y']\n",
    "print(x.shape, y.shape)\n",
    "print(f\"MSE (train): {100*np.square(y-s328919.f1(x)).sum()/len(y):g}\")"
   ]
  },
  {
   "cell_type": "code",
   "execution_count": 9,
   "metadata": {},
   "outputs": [
    {
     "name": "stdout",
     "output_type": "stream",
     "text": [
      "(3, 5000) (5000,)\n",
      "MSE (train): 2.54801e+15\n"
     ]
    }
   ],
   "source": [
    "problem = np.load('data/problem_2.npz')\n",
    "x = problem['x']\n",
    "y = problem['y']\n",
    "print(x.shape, y.shape)\n",
    "print(f\"MSE (train): {100*np.square(y-s328919.f2(x)).sum()/len(y):g}\")"
   ]
  },
  {
   "cell_type": "code",
   "execution_count": 10,
   "metadata": {},
   "outputs": [
    {
     "name": "stdout",
     "output_type": "stream",
     "text": [
      "(3, 5000) (5000,)\n",
      "MSE (train): 423.184\n"
     ]
    }
   ],
   "source": [
    "problem = np.load('data/problem_3.npz')\n",
    "x = problem['x']\n",
    "y = problem['y']\n",
    "print(x.shape, y.shape)\n",
    "print(f\"MSE (train): {100*np.square(y-s328919.f3(x)).sum()/len(y):g}\")"
   ]
  },
  {
   "cell_type": "code",
   "execution_count": 11,
   "metadata": {},
   "outputs": [
    {
     "name": "stdout",
     "output_type": "stream",
     "text": [
      "(2, 5000) (5000,)\n",
      "MSE (train): 7.14565\n"
     ]
    }
   ],
   "source": [
    "problem = np.load('data/problem_4.npz')\n",
    "x = problem['x']\n",
    "y = problem['y']\n",
    "print(x.shape, y.shape)\n",
    "print(f\"MSE (train): {100*np.square(y-s328919.f4(x)).sum()/len(y):g}\")"
   ]
  },
  {
   "cell_type": "code",
   "execution_count": 12,
   "metadata": {},
   "outputs": [
    {
     "name": "stdout",
     "output_type": "stream",
     "text": [
      "(2, 5000) (5000,)\n",
      "MSE (train): 5.57281e-16\n"
     ]
    }
   ],
   "source": [
    "problem = np.load('data/problem_5.npz')\n",
    "x = problem['x']\n",
    "y = problem['y']\n",
    "print(x.shape, y.shape)\n",
    "print(f\"MSE (train): {100*np.square(y-s328919.f5(x)).sum()/len(y):g}\")"
   ]
  },
  {
   "cell_type": "code",
   "execution_count": 13,
   "metadata": {},
   "outputs": [
    {
     "name": "stdout",
     "output_type": "stream",
     "text": [
      "(2, 5000) (5000,)\n",
      "MSE (train): 0.314885\n"
     ]
    }
   ],
   "source": [
    "problem = np.load('data/problem_6.npz')\n",
    "x = problem['x']\n",
    "y = problem['y']\n",
    "print(x.shape, y.shape)\n",
    "print(f\"MSE (train): {100*np.square(y-s328919.f6(x)).sum()/len(y):g}\")"
   ]
  },
  {
   "cell_type": "code",
   "execution_count": 4,
   "metadata": {},
   "outputs": [
    {
     "name": "stdout",
     "output_type": "stream",
     "text": [
      "(2, 5000) (5000,)\n",
      "MSE (train): 27404.7\n"
     ]
    }
   ],
   "source": [
    "problem = np.load('data/problem_7.npz')\n",
    "x = problem['x']\n",
    "y = problem['y']\n",
    "print(x.shape, y.shape)\n",
    "print(f\"MSE (train): {100*np.square(y-s328919.f7(x)).sum()/len(y):g}\")"
   ]
  },
  {
   "cell_type": "code",
   "execution_count": 15,
   "metadata": {},
   "outputs": [
    {
     "name": "stdout",
     "output_type": "stream",
     "text": [
      "(6, 50000) (50000,)\n",
      "MSE (train): 7.51788e+07\n"
     ]
    }
   ],
   "source": [
    "problem = np.load('data/problem_8.npz')\n",
    "x = problem['x']\n",
    "y = problem['y']\n",
    "print(x.shape, y.shape)\n",
    "print(f\"MSE (train): {100*np.square(y-s328919.f8(x)).sum()/len(y):g}\")"
   ]
  }
 ],
 "metadata": {
  "kernelspec": {
   "display_name": "Python 3",
   "language": "python",
   "name": "python3"
  },
  "language_info": {
   "codemirror_mode": {
    "name": "ipython",
    "version": 3
   },
   "file_extension": ".py",
   "mimetype": "text/x-python",
   "name": "python",
   "nbconvert_exporter": "python",
   "pygments_lexer": "ipython3",
   "version": "3.10.0"
  }
 },
 "nbformat": 4,
 "nbformat_minor": 2
}
